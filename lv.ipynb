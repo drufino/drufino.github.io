{
 "cells": [
  {
   "cell_type": "code",
   "execution_count": 58,
   "id": "ff5bbb95",
   "metadata": {},
   "outputs": [],
   "source": [
    "import scipy, numpy as np\n",
    "from scipy.stats import norm\n",
    "from numpy import exp, sqrt, expm1, log\n",
    "from enum import Enum"
   ]
  },
  {
   "cell_type": "code",
   "execution_count": 59,
   "id": "2bb27fa5",
   "metadata": {},
   "outputs": [],
   "source": [
    "class OptType(Enum):\n",
    "    CALL=1\n",
    "    PUT=2\n",
    "\n",
    "CALL = OptType.CALL\n",
    "PUT = OptType.PUT\n",
    "\n",
    "def G(K, F):\n",
    "    return log(K/F)\n",
    "def Ginv(z, F):\n",
    "    return F*exp(z)\n",
    "def BS(opt_type, F, K, vol, T):\n",
    "    assert opt_type in [OptType.CALL, OptType.PUT]\n",
    "    stddev = vol * sqrt(T)\n",
    "    d1 = log(F/K)/stddev + 0.5*stddev\n",
    "    d2 = log(F/K)/stddev - 0.5*stddev\n",
    "    if opt_type == CALL:\n",
    "        return F*norm.cdf(d1) - K*norm.cdf(d2)\n",
    "    else:\n",
    "        return K*norm.cdf(-d2) - F*norm.cdf(-d1)\n",
    "\n",
    "def H_opt(opt_type, vol, T, alpha, L):\n",
    "    assert opt_type in [OptType.CALL, OptType.PUT]\n",
    "    stddev = vol * sqrt(T)\n",
    "    d = (0.5*(alpha - 1.0)*stddev*stddev - L)/stddev\n",
    "    d1 = d + 0.5*alpha * stddev\n",
    "    d2 = d - 0.5*alpha * stddev\n",
    "\n",
    "    cd1  = norm.cdf(d1)\n",
    "    cd2  = norm.cdf(d2)\n",
    "    cmd1 = norm.cdf(-d1)\n",
    "    cmd2 = norm.cdf(-d2)\n",
    "\n",
    "    if opt_type == PUT:\n",
    "        #print(cmd2)\n",
    "        C = stddev*(cmd2 - cmd1)/(alpha*stddev)     \n",
    "    else:\n",
    "        #print(cd1)\n",
    "        C = stddev*(cd1 - cd2)/(alpha*stddev)\n",
    "\n",
    "    e1 = expm1(alpha*stddev*d)\n",
    "    e = e1 + 1.0\n",
    "    if opt_type == OptType.CALL:\n",
    "        C += e1 / alpha * cd1\n",
    "    else:\n",
    "        C -= e1 / alpha * cmd1\n",
    "\n",
    "    if opt_type == CALL:\n",
    "        nd1 = norm.pdf(d1)\n",
    "        C1= - e * cd1\n",
    "        C2= e*(alpha * cd1 + 1.0 / stddev * nd1)\n",
    "        C3= -e/(stddev*stddev)*(alpha*alpha*stddev*stddev*cd1-nd1*(d-1.5*alpha*stddev))\n",
    "    else:\n",
    "        nd1 = norm.pdf(d1)\n",
    "        C1= e* cmd1\n",
    "        C2 = -alpha * e*cmd1 + e / stddev * norm.pdf(d1)\n",
    "        C3= e/(stddev*stddev)*(alpha*alpha*stddev*stddev*cmd1+nd1*(d-1.5*alpha*stddev))\n",
    "    return C, C1, C2,C3"
   ]
  },
  {
   "cell_type": "code",
   "execution_count": 60,
   "id": "0a046ff0",
   "metadata": {},
   "outputs": [],
   "source": [
    "vol = 0.20\n",
    "T   = 5.0\n",
    "alpha = 1.0\n",
    "F   = 0.02\n",
    "K   = 0.04"
   ]
  },
  {
   "cell_type": "code",
   "execution_count": 61,
   "id": "d5f99bad",
   "metadata": {},
   "outputs": [
    {
     "name": "stdout",
     "output_type": "stream",
     "text": [
      "fv1=0.010162265323490585 fv2=0.010162265323490587\n",
      "fv1=0.00016226532349058618 fv2=0.00016226532349058608\n",
      "fv1=0.003538734524837573 fv2=0.003538734524837571\n",
      "fv1=0.003538734524837573 fv2=0.003538734524837571\n",
      "fv1=0.0010702749421714198 fv2=0.001070274942171418\n",
      "fv1=0.011070274942171419 fv2=0.011070274942171417\n",
      "dfv1=-1.5708581958734191 dfv2=-1.5708581959772427\n",
      "ddfv1=1.5483189766142353 ddfv2=1.5483190982656936\n",
      "dddfv1=-0.06339696681146197 dddfv2=-0.06339697997792548\n",
      "dfv1=0.07969480766378466 dfv2=0.07969480910648141\n",
      "ddfv1=0.31040422396133255 ddfv2=0.31040428720430224\n",
      "dddfv1=0.8650390976782152 dddfv2=0.8650390853806589\n",
      "dfv1=-0.5343959038993072 dfv2=-0.534395906212487\n",
      "ddfv1=1.2708338953107732 ddfv2=1.2708336376010543\n",
      "dddfv1=-1.3881439051762268 dddfv2=-1.388143890617144\n",
      "dfv1=0.4470287838484699 dfv2=0.4470287824551167\n",
      "ddfv1=0.5347653794999405 ddfv2=0.5347650872955523\n",
      "dddfv1=-0.836092518318102 dddfv2=-0.8360925032419031\n",
      "dfv1=-0.154484682145218 dfv2=-0.15448468486223277\n",
      "ddfv1=0.5868353321409305 ddfv2=0.5868354882171412\n",
      "dddfv1=-1.6304256100112728 dddfv2=-1.6304255952703794\n",
      "dfv1=0.5695986228401143 dfv2=0.5695986208023585\n",
      "ddfv1=0.04377285340193132 ddfv2=0.04377298390423334\n",
      "dddfv1=-1.2231287509570234 dddfv2=-1.2231287358346887\n"
     ]
    }
   ],
   "source": [
    "# Some simple sanity checks\n",
    "alpha = 1.0\n",
    "for K in [0.01,0.02,0.03]:\n",
    "    for w in [CALL,PUT]:\n",
    "        fv1 = K*H_opt(w,vol,T,alpha,G(K, F))[0]\n",
    "        fv2 = BS(w,F,K,vol,T)\n",
    "        print('fv1={} fv2={}'.format(fv1,fv2))\n",
    "        assert(abs(fv1 - fv2)<1.0e-8)\n",
    "        \n",
    "alpha = 0.75\n",
    "for K in [0.01,0.02,0.03]:\n",
    "    for w in [CALL,PUT]:\n",
    "        _,dfv1,ddfv1,dddfv1 = H_opt(w,vol,T,alpha,G(K, F))\n",
    "        dfv2 = (H_opt(w,vol,T,alpha,G(K, F)+0.0001)[0]-H_opt(w,vol,T,alpha,G(K, F)-0.0001)[0])/0.0002\n",
    "        ddfv2 = (H_opt(w,vol,T,alpha,G(K, F)+0.001)[0]- 2*H_opt(w,vol,T,alpha,G(K, F))[0] +H_opt(w,vol,T,alpha,G(K, F)-0.001)[0])/(0.001**2)\n",
    "        dddfv2=(H_opt(w,vol,T,alpha,G(K, F)+0.0001)[2]-H_opt(w,vol,T,alpha,G(K, F)-0.0001)[2])/0.0002\n",
    "        print('dfv1={} dfv2={}'.format(dfv1,dfv2))\n",
    "        print('ddfv1={} ddfv2={}'.format(ddfv1,ddfv2))\n",
    "        print('dddfv1={} dddfv2={}'.format(dddfv1,dddfv2))"
   ]
  },
  {
   "cell_type": "code",
   "execution_count": 62,
   "id": "03c654a4",
   "metadata": {},
   "outputs": [],
   "source": [
    "from scipy.integrate import fixed_quad\n",
    "N=10\n",
    "def V_opt(opt_type, F, K, vol, T, alpha, mu):\n",
    "    H,HL,HLL,HLLL = H_opt(opt_type, vol, T, alpha, G(K, F) - mu)\n",
    "    \n",
    "    V = K * H\n",
    "    Vmu = -K * HL\n",
    "    Vmu2 = K * HLL\n",
    "    Vmu3 = -K * HLLL\n",
    "\n",
    "    if opt_type == CALL:\n",
    "        Kmax=1.0\n",
    "        #V+= (1.0 - alpha)*fixed_quad(lambda k: H_opt(opt_type, vol, T, alpha, G(k, F)), K, 1., n=N)[0]\n",
    "        res = (1.0 - alpha)*fixed_quad(lambda z: Ginv(z, F)*H_opt(opt_type, vol, T, alpha, z - mu), G(K,F), G(Kmax, F), n=N)[0]\n",
    "        V   += res[0]\n",
    "        Vmu -= res[1]\n",
    "        Vmu2 += res[2]\n",
    "        Vmu3 -= res[3]\n",
    "    else:\n",
    "        res = (1.0 - alpha)*fixed_quad(lambda k: H_opt(opt_type, vol, T, alpha, G(k, F) - mu), 0., K, n=N)[0]\n",
    "        V    -= res[0]\n",
    "        Vmu  += res[1]\n",
    "        Vmu2 -= res[2]\n",
    "        Vmu3 += res[3]\n",
    "    #V += fixed_quad(lambda k: 1.0, a=K, b=1.0, n=N)[0]\n",
    "    return V, Vmu, Vmu2, Vmu3"
   ]
  },
  {
   "cell_type": "code",
   "execution_count": 63,
   "id": "546b0a96",
   "metadata": {},
   "outputs": [
    {
     "name": "stdout",
     "output_type": "stream",
     "text": [
      "fv1=0.00353873457431449 fv2=0.003538734524837571 diff=4.9476919089519455e-11\n",
      "fv1_mu=0.011769378713964494 fv1_mu_=0.01176938502568236 diff=-6.311717865373212e-09\n",
      "fv1_mu2=0.029170195758220753 fv1_mu2_=0.02917019202054727 diff=3.7376734832172964e-09\n",
      "fv1_mu3=0.03787032087727568 fv1_mu3_=0.037870292016371765 diff=2.8860903916738678e-08\n",
      "fv1=0.0035387345577300314 fv2=0.003538734524837571 diff=3.2892460456734884e-11\n",
      "fv1_mu=-0.008230633223956507 fv1_mu_=-0.008230630245545335 diff=-2.9784111722080953e-09\n",
      "fv1_mu2=0.009170110269684633 fv1_mu2_=0.009170104870327017 diff=5.399357615523681e-09\n",
      "fv1_mu3=0.01787047313625746 fv1_mu3_=0.017870440951417432 diff=3.218484002920352e-08\n"
     ]
    }
   ],
   "source": [
    "K=0.02\n",
    "alpha=0.5\n",
    "for w in [CALL, PUT]:\n",
    "    fv1,fv1_mu, fv1_mu2, fv1_mu3=V_opt(w, F, K, vol, T, alpha, mu=0.0)\n",
    "    fv2=BS(w,F,K,vol,T)\n",
    "    print('fv1={} fv2={} diff={}'.format(fv1, fv2, fv1-fv2))\n",
    "    fv1_mu_ = (V_opt(w, F, K, vol, T, alpha, mu=0.001)[0] - V_opt(w, F, K, vol, T, alpha, mu=-0.001)[0])/0.002\n",
    "    print('fv1_mu={} fv1_mu_={} diff={}'.format(fv1_mu, fv1_mu_, fv1_mu - fv1_mu_))\n",
    "    fv1_mu2_ = (V_opt(w, F, K, vol, T, alpha, mu=0.001)[0] -2* V_opt(w, F, K, vol, T, alpha, mu=0.0)[0] + V_opt(w, F, K, vol, T, alpha, mu=-0.001)[0])/(0.001**2)\n",
    "    print('fv1_mu2={} fv1_mu2_={} diff={}'.format(fv1_mu2, fv1_mu2_, fv1_mu2-fv1_mu2_))\n",
    "    fv1_mu3_ = (V_opt(w, F, K, vol, T, alpha, mu=0.001)[2] - V_opt(w, F, K, vol, T, alpha, mu=-0.001)[2])/0.002\n",
    "    print('fv1_mu3={} fv1_mu3_={} diff={}'.format(fv1_mu3, fv1_mu3_, fv1_mu3-fv1_mu3_))"
   ]
  },
  {
   "cell_type": "code",
   "execution_count": 175,
   "id": "c55610f5",
   "metadata": {},
   "outputs": [],
   "source": [
    "from scipy.optimize import brentq, newton, root_scalar\n",
    "def solve_for_mu(F, vol, T, alpha, start_x=1.0,order=2,logstyle=False):\n",
    "    def obj_fn(mu):\n",
    "        fx,f1x,f2x,f3x = V_opt(CALL, F, F, vol, T, alpha, mu)\n",
    "        gx,g1x,g2x,g3x = V_opt(PUT, F, F, vol, T, alpha, mu)\n",
    "        return fx-gx,f1x-g1x,f2x-g2x,f3x-g3x\n",
    "    def obj_fn_2(mu):\n",
    "        fx,f1x,f2x,f3x = V_opt(CALL, F, F, vol, T, alpha, mu)\n",
    "        gx,g1x,g2x,g3x = V_opt(PUT, F, F, vol, T, alpha, mu)\n",
    "        vx,v1x,v2x,v3x = fx-gx+F,f1x-g1x,f2x-g2x,f3x-g3x\n",
    "        \n",
    "        hx = np.log1p((fx-gx)/F)\n",
    "        h1x = v1x/vx\n",
    "        h2x = v2x/vx - h1x**2\n",
    "        h3x = v3x/vx + 2*(h1x**3)-3*h1x*v2x/vx\n",
    "        return hx,h1x,h2x,h3x\n",
    "    x  = start_x\n",
    "    fn = obj_fn if not logstyle else obj_fn_2\n",
    "    fx,f1x,f2x,f3x = fn(x)\n",
    "    print('x={} fx={} f1x={}'.format(x,fx,f1x))\n",
    "    step   = 1.0\n",
    "    while abs(step)>1.0e-10:\n",
    "        h = -fx/f1x\n",
    "        if order == 1 or abs(fx)<1.0e-8:\n",
    "            step = h\n",
    "        elif order == 2:\n",
    "            step = h/(1.0+0.5*h*f2x/f1x)\n",
    "        elif order == 3:\n",
    "            step = h*(1.0+0.5*f2x/f1x*h)/(1.0+f2x/f1x*h+(f3x/f1x)/6*h*h)\n",
    "        else:\n",
    "            assert False\n",
    "        x += step\n",
    "        fx,f1x,f2x,f3x = fn(x)\n",
    "        print('x={} fx={} f1x={}'.format(x,fx,f1x))\n",
    "    return x"
   ]
  },
  {
   "cell_type": "code",
   "execution_count": 178,
   "id": "edde8057",
   "metadata": {},
   "outputs": [
    {
     "name": "stdout",
     "output_type": "stream",
     "text": [
      "x=1.0 fx=1.0000011051921072 f1x=1.0000028960229597\n",
      "x=-2.763182002829545e-05 fx=-2.7625673254222765e-05 f1x=1.0000010086349216\n",
      "x=-6.174640128675692e-09 fx=4.119968255444916e-16 f1x=1.0000010087699596\n",
      "x=-6.174640540672102e-09 fx=-2.168404344971009e-16 f1x=1.0000010087699598\n"
     ]
    },
    {
     "data": {
      "text/plain": [
       "-6.174640540672102e-09"
      ]
     },
     "execution_count": 178,
     "metadata": {},
     "output_type": "execute_result"
    }
   ],
   "source": [
    "alpha=0.15\n",
    "solve_for_mu(F, vol, T, alpha, start_x=1.0,order=3, logstyle=True)"
   ]
  },
  {
   "cell_type": "code",
   "execution_count": null,
   "id": "556ed78a",
   "metadata": {},
   "outputs": [],
   "source": []
  },
  {
   "cell_type": "code",
   "execution_count": null,
   "id": "61198d0e",
   "metadata": {},
   "outputs": [],
   "source": []
  }
 ],
 "metadata": {
  "kernelspec": {
   "display_name": "Python 3 (ipykernel)",
   "language": "python",
   "name": "python3"
  },
  "language_info": {
   "codemirror_mode": {
    "name": "ipython",
    "version": 3
   },
   "file_extension": ".py",
   "mimetype": "text/x-python",
   "name": "python",
   "nbconvert_exporter": "python",
   "pygments_lexer": "ipython3",
   "version": "3.9.13"
  }
 },
 "nbformat": 4,
 "nbformat_minor": 5
}
